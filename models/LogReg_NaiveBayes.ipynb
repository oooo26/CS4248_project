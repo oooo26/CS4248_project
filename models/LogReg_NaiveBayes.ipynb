{
  "cells": [
    {
      "cell_type": "code",
      "execution_count": 1,
      "metadata": {
        "colab": {
          "base_uri": "https://localhost:8080/"
        },
        "id": "iBpBJfFlbNOh",
        "outputId": "33dc76e3-9707-4ab7-a8f1-370599ec6d94"
      },
      "outputs": [
        {
          "name": "stdout",
          "output_type": "stream",
          "text": [
            "Mounted at /content/gdrive\n"
          ]
        }
      ],
      "source": [
        "from google.colab import drive\n",
        "drive.mount(\"/content/gdrive\")\n",
        "\n",
        "# Dataset path\n",
        "path_to_datasets = \"/content/gdrive/My Drive/Colab Notebooks/CS4248Project\"\n",
        "\n",
        "# Importing the required modules\n",
        "import numpy as np\n",
        "import pandas as pd\n",
        "import re\n",
        "import string\n",
        "import matplotlib.pyplot as plt\n",
        "from sklearn.metrics import f1_score"
      ]
    },
    {
      "cell_type": "code",
      "execution_count": 2,
      "metadata": {
        "colab": {
          "base_uri": "https://localhost:8080/",
          "height": 206
        },
        "id": "17dUC2eMcCNg",
        "outputId": "4a9bf53c-2328-4d8f-eee4-a95ecd1d371c"
      },
      "outputs": [
        {
          "data": {
            "text/html": [
              "\n",
              "  <div id=\"df-a9401b98-22c0-4715-b744-a4e79aa45b5f\">\n",
              "    <div class=\"colab-df-container\">\n",
              "      <div>\n",
              "<style scoped>\n",
              "    .dataframe tbody tr th:only-of-type {\n",
              "        vertical-align: middle;\n",
              "    }\n",
              "\n",
              "    .dataframe tbody tr th {\n",
              "        vertical-align: top;\n",
              "    }\n",
              "\n",
              "    .dataframe thead th {\n",
              "        text-align: right;\n",
              "    }\n",
              "</style>\n",
              "<table border=\"1\" class=\"dataframe\">\n",
              "  <thead>\n",
              "    <tr style=\"text-align: right;\">\n",
              "      <th></th>\n",
              "      <th>label</th>\n",
              "      <th>text</th>\n",
              "    </tr>\n",
              "  </thead>\n",
              "  <tbody>\n",
              "    <tr>\n",
              "      <th>0</th>\n",
              "      <td>1</td>\n",
              "      <td>A little less than a decade ago, hockey fans w...</td>\n",
              "    </tr>\n",
              "    <tr>\n",
              "      <th>1</th>\n",
              "      <td>1</td>\n",
              "      <td>The writers of the HBO series The Sopranos too...</td>\n",
              "    </tr>\n",
              "    <tr>\n",
              "      <th>2</th>\n",
              "      <td>1</td>\n",
              "      <td>Despite claims from the TV news outlet to offe...</td>\n",
              "    </tr>\n",
              "    <tr>\n",
              "      <th>3</th>\n",
              "      <td>1</td>\n",
              "      <td>After receiving 'subpar' service and experienc...</td>\n",
              "    </tr>\n",
              "    <tr>\n",
              "      <th>4</th>\n",
              "      <td>1</td>\n",
              "      <td>After watching his beloved Seattle Mariners pr...</td>\n",
              "    </tr>\n",
              "  </tbody>\n",
              "</table>\n",
              "</div>\n",
              "      <button class=\"colab-df-convert\" onclick=\"convertToInteractive('df-a9401b98-22c0-4715-b744-a4e79aa45b5f')\"\n",
              "              title=\"Convert this dataframe to an interactive table.\"\n",
              "              style=\"display:none;\">\n",
              "        \n",
              "  <svg xmlns=\"http://www.w3.org/2000/svg\" height=\"24px\"viewBox=\"0 0 24 24\"\n",
              "       width=\"24px\">\n",
              "    <path d=\"M0 0h24v24H0V0z\" fill=\"none\"/>\n",
              "    <path d=\"M18.56 5.44l.94 2.06.94-2.06 2.06-.94-2.06-.94-.94-2.06-.94 2.06-2.06.94zm-11 1L8.5 8.5l.94-2.06 2.06-.94-2.06-.94L8.5 2.5l-.94 2.06-2.06.94zm10 10l.94 2.06.94-2.06 2.06-.94-2.06-.94-.94-2.06-.94 2.06-2.06.94z\"/><path d=\"M17.41 7.96l-1.37-1.37c-.4-.4-.92-.59-1.43-.59-.52 0-1.04.2-1.43.59L10.3 9.45l-7.72 7.72c-.78.78-.78 2.05 0 2.83L4 21.41c.39.39.9.59 1.41.59.51 0 1.02-.2 1.41-.59l7.78-7.78 2.81-2.81c.8-.78.8-2.07 0-2.86zM5.41 20L4 18.59l7.72-7.72 1.47 1.35L5.41 20z\"/>\n",
              "  </svg>\n",
              "      </button>\n",
              "      \n",
              "  <style>\n",
              "    .colab-df-container {\n",
              "      display:flex;\n",
              "      flex-wrap:wrap;\n",
              "      gap: 12px;\n",
              "    }\n",
              "\n",
              "    .colab-df-convert {\n",
              "      background-color: #E8F0FE;\n",
              "      border: none;\n",
              "      border-radius: 50%;\n",
              "      cursor: pointer;\n",
              "      display: none;\n",
              "      fill: #1967D2;\n",
              "      height: 32px;\n",
              "      padding: 0 0 0 0;\n",
              "      width: 32px;\n",
              "    }\n",
              "\n",
              "    .colab-df-convert:hover {\n",
              "      background-color: #E2EBFA;\n",
              "      box-shadow: 0px 1px 2px rgba(60, 64, 67, 0.3), 0px 1px 3px 1px rgba(60, 64, 67, 0.15);\n",
              "      fill: #174EA6;\n",
              "    }\n",
              "\n",
              "    [theme=dark] .colab-df-convert {\n",
              "      background-color: #3B4455;\n",
              "      fill: #D2E3FC;\n",
              "    }\n",
              "\n",
              "    [theme=dark] .colab-df-convert:hover {\n",
              "      background-color: #434B5C;\n",
              "      box-shadow: 0px 1px 3px 1px rgba(0, 0, 0, 0.15);\n",
              "      filter: drop-shadow(0px 1px 2px rgba(0, 0, 0, 0.3));\n",
              "      fill: #FFFFFF;\n",
              "    }\n",
              "  </style>\n",
              "\n",
              "      <script>\n",
              "        const buttonEl =\n",
              "          document.querySelector('#df-a9401b98-22c0-4715-b744-a4e79aa45b5f button.colab-df-convert');\n",
              "        buttonEl.style.display =\n",
              "          google.colab.kernel.accessAllowed ? 'block' : 'none';\n",
              "\n",
              "        async function convertToInteractive(key) {\n",
              "          const element = document.querySelector('#df-a9401b98-22c0-4715-b744-a4e79aa45b5f');\n",
              "          const dataTable =\n",
              "            await google.colab.kernel.invokeFunction('convertToInteractive',\n",
              "                                                     [key], {});\n",
              "          if (!dataTable) return;\n",
              "\n",
              "          const docLinkHtml = 'Like what you see? Visit the ' +\n",
              "            '<a target=\"_blank\" href=https://colab.research.google.com/notebooks/data_table.ipynb>data table notebook</a>'\n",
              "            + ' to learn more about interactive tables.';\n",
              "          element.innerHTML = '';\n",
              "          dataTable['output_type'] = 'display_data';\n",
              "          await google.colab.output.renderOutput(dataTable, element);\n",
              "          const docLink = document.createElement('div');\n",
              "          docLink.innerHTML = docLinkHtml;\n",
              "          element.appendChild(docLink);\n",
              "        }\n",
              "      </script>\n",
              "    </div>\n",
              "  </div>\n",
              "  "
            ],
            "text/plain": [
              "   label                                               text\n",
              "0      1  A little less than a decade ago, hockey fans w...\n",
              "1      1  The writers of the HBO series The Sopranos too...\n",
              "2      1  Despite claims from the TV news outlet to offe...\n",
              "3      1  After receiving 'subpar' service and experienc...\n",
              "4      1  After watching his beloved Seattle Mariners pr..."
            ]
          },
          "execution_count": 2,
          "metadata": {},
          "output_type": "execute_result"
        }
      ],
      "source": [
        "train = pd.read_csv(f\"{path_to_datasets}/fulltrain.csv\", names = ['label', 'text'])\n",
        "train.head()"
      ]
    },
    {
      "cell_type": "code",
      "execution_count": null,
      "metadata": {
        "id": "3MrK_ohJceiP"
      },
      "outputs": [],
      "source": [
        "# # Using the preprocessing utils implemented by the other team members\n",
        "\n",
        "# # remove punctuation\n",
        "# train['text'] = train['text'].apply(lambda x: re.sub('[%s]' % re.escape(string.punctuation), '' , x))\n",
        "\n",
        "# # lower case\n",
        "# def lower_case(sentence):\n",
        "#     sentence = str(sentence)\n",
        "#     sentence = sentence.lower()\n",
        "#     return sentence\n",
        "# train['text'] = train['text'].apply(lambda x:lower_case(x))\n",
        "\n",
        "# train.head()"
      ]
    },
    {
      "cell_type": "code",
      "execution_count": null,
      "metadata": {
        "id": "3dpiurf5jAMy"
      },
      "outputs": [],
      "source": [
        "# # Test train split\n",
        "\n",
        "# from sklearn.model_selection import train_test_split\n",
        "\n",
        "# X = train['text']\n",
        "# y = train['label']\n",
        "\n",
        "# X_train, X_test, y_train, y_test = train_test_split(X, y, test_size = 0.5)"
      ]
    },
    {
      "cell_type": "code",
      "execution_count": null,
      "metadata": {
        "id": "PmiLEApsiIyh"
      },
      "outputs": [],
      "source": [
        "# # Tokenising\n",
        "\n",
        "# import tensorflow as tf\n",
        "\n",
        "# tokenizer = tf.keras.layers.TextVectorization(\n",
        "#     standardize='lower_and_strip_punctuation',\n",
        "#     output_mode='int'\n",
        "# )\n",
        "\n",
        "# tokenizer.adapt(X_train)\n",
        "# size_train = tokenizer.vocabulary_size()\n",
        "# vocabulary_train = tokenizer.get_vocabulary()\n",
        "\n",
        "# tokenizer.adapt(X_test)\n",
        "# size_test = tokenizer.vocabulary_size()\n",
        "# vocabulary_test = tokenizer.get_vocabulary()\n",
        "\n",
        "# print(size_train)\n",
        "# print(size_test)\n",
        "# print(len(X_train))"
      ]
    },
    {
      "cell_type": "code",
      "execution_count": null,
      "metadata": {
        "id": "qum-ouUziLGz"
      },
      "outputs": [],
      "source": [
        "# # Using Glove\n",
        "\n",
        "# embeddings_dict = {}\n",
        "\n",
        "# with open(\"/content/gdrive/My Drive/Colab Notebooks/CS4248Project/glove.6B.100d.txt\", 'r') as f:\n",
        "#   for line in f:\n",
        "#         values = line.split()\n",
        "#         word = values[0]\n",
        "#         vector = np.asarray(values[1:], \"float32\")\n",
        "#         embeddings_dict[word] = vector\n",
        "\n",
        "# #TODO: replace size_train by X_train_size\n",
        "# embedding_matrix_train = np.zeros((len(X_train), 100))\n",
        "# embedding_matrix_test = np.zeros((len(X_test), 100))\n",
        "\n",
        "# for k, w in enumerate(vocabulary_train):\n",
        "#     embedding_mat = embeddings_dict.get(w)\n",
        "#     if embedding_mat is not None:\n",
        "#         embedding_matrix_train[k] = embedding_mat\n",
        "\n",
        "# for k, w in enumerate(vocabulary_test):\n",
        "#     embedding_mat = embeddings_dict.get(w)\n",
        "#     if embedding_mat is not None:\n",
        "#         embedding_matrix_test[k] = embedding_mat"
      ]
    },
    {
      "cell_type": "code",
      "execution_count": 3,
      "metadata": {
        "id": "Lvj3BQiPRS4u"
      },
      "outputs": [],
      "source": [
        "from sklearn.model_selection import train_test_split\n",
        "from sklearn.feature_extraction.text import TfidfVectorizer\n",
        "\n",
        "X = train['text']\n",
        "y = train['label']\n",
        "\n",
        "X_train, X_test, y_train, y_test = train_test_split(X, y, test_size = 0.2)\n",
        "\n",
        "# Using tfidf and one-hot encoding to fit and transform the data\n",
        "Tfidf_vect = TfidfVectorizer(sublinear_tf=True, max_df=0.5, min_df=5, stop_words=\"english\")\n",
        "Tfidf_vect.fit(X_train)\n",
        "# Train\n",
        "Train_X_Tfidf = Tfidf_vect.transform(X_train)\n",
        "# Test\n",
        "Test_X_Tfidf =Tfidf_vect.transform(X_test)"
      ]
    },
    {
      "cell_type": "code",
      "execution_count": null,
      "metadata": {
        "id": "cuT0h5d4BpHd"
      },
      "outputs": [],
      "source": [
        "# # Multi layer perceptron\n",
        "\n",
        "# from keras.models import Sequential\n",
        "# from keras.layers import Dense, Dropout, Activation\n",
        "# import keras\n",
        "# import tensorflow as tf\n",
        "\n",
        "# output_layer_cat = 4\n",
        "# features = embedding_matrix_train.shape[1]\n",
        "# length = 256\n",
        "# runs = 10\n",
        "\n",
        "# Y_train = tf.keras.utils.to_categorical(y_train-1)\n",
        "# Y_test = tf.keras.utils.to_categorical(y_test-1)\n",
        "\n",
        "# model = Sequential()\n",
        "# model.add(Dense(512, input_shape=(features,)))\n",
        "# model.add(Activation('relu'))\n",
        "# model.add(Dropout(0.5))\n",
        "# model.add(Dense(output_layer_cat))\n",
        "# model.add(Activation('sigmoid'))\n",
        "# model.compile(loss = 'categorical_crossentropy', optimizer = 'adam', metrics=['accuracy'])\n",
        "# history = model.fit(embedding_matrix_train, Y_train, batch_size = length, epochs = runs, verbose = 1, validation_split = 0.1)\n",
        "\n",
        "# score = model.evaluate(embedding_matrix_test, Y_test, batch_size = length, verbose = 1)\n",
        "\n",
        "# print('Accuracy:', score[1])"
      ]
    },
    {
      "cell_type": "code",
      "execution_count": null,
      "metadata": {
        "id": "VJaCiMAbRlfj"
      },
      "outputs": [],
      "source": [
        "# from keras.models import Sequential\n",
        "# from keras.layers import Dense, Dropout, Activation\n",
        "# import keras\n",
        "\n",
        "# output_layer_cat = 4\n",
        "# features = Train_X_Tfidf.shape[1]\n",
        "# length = 256\n",
        "# runs = 3\n",
        "\n",
        "# Y_train = keras.utils.to_categorical(y_train2)\n",
        "# Y_test = keras.utils.to_categorical(y_test2)\n",
        "\n",
        "# model = Sequential()\n",
        "# model.add(Dense(512, input_shape=(features,)))\n",
        "# model.add(Activation('tanh'))\n",
        "# model.add(Dropout(0.5))\n",
        "# model.add(Dense(output_layer_cat))\n",
        "# model.add(Activation('softmax'))\n",
        "# model.compile(loss = 'categorical_crossentropy', optimizer = 'adam', metrics=['accuracy'])\n",
        "# history = model.fit(Train_X_Tfidf.toarray(), Y_train, batch_size = length, epochs = runs, verbose = 1, validation_split = 0.1)\n",
        "\n",
        "# score = model.evaluate(Test_X_Tfidf.toarray(), Y_test, batch_size = length, verbose = 1)\n",
        "\n",
        "# print('Accuracy:', score[1])"
      ]
    },
    {
      "cell_type": "code",
      "execution_count": null,
      "metadata": {
        "colab": {
          "base_uri": "https://localhost:8080/"
        },
        "id": "gGaFO4-LnAYT",
        "outputId": "0b86e196-f610-44b9-b46e-6d94abcd8561"
      },
      "outputs": [
        {
          "name": "stdout",
          "output_type": "stream",
          "text": [
            "LogisticRegression with tf-idf Accuracy 1.000 for Training Data \n",
            "LogisticRegression with tf-idf Accuracy 0.972 for Test Data \n"
          ]
        }
      ],
      "source": [
        "# Logistic regression with new td-idf\n",
        "\n",
        "from sklearn.linear_model import LogisticRegression\n",
        "from sklearn import metrics\n",
        "\n",
        "lr = LogisticRegression(C=100.0, random_state=1, solver='lbfgs', multi_class='ovr', max_iter=50000)\n",
        "\n",
        "lr.fit(Train_X_Tfidf, y_train)\n",
        "\n",
        "prediction_train = lr.predict(Train_X_Tfidf)\n",
        "prediction_test = lr.predict(Test_X_Tfidf)\n",
        "\n",
        "print(\"LogisticRegression with tf-idf Accuracy %.3f for Training Data \" %metrics.accuracy_score(prediction_train, y_train))\n",
        "print(\"LogisticRegression with tf-idf Accuracy %.3f for Test Data \" %metrics.accuracy_score(prediction_test, y_test))"
      ]
    },
    {
      "cell_type": "code",
      "execution_count": null,
      "metadata": {
        "colab": {
          "base_uri": "https://localhost:8080/"
        },
        "id": "hGx2WM8W3inG",
        "outputId": "7db47dab-69da-439f-c1ff-d0b3a55ef335"
      },
      "outputs": [
        {
          "name": "stdout",
          "output_type": "stream",
          "text": [
            "LogisticRegression with tf-idf Accuracy 1.000 for Training Data \n",
            "LogisticRegression with tf-idf Accuracy 0.972 for Test Data \n",
            "LogisticRegression with tf-idf f1 score 0.972 for Test Data \n"
          ]
        }
      ],
      "source": [
        "# Logistic regression with new td-idf\n",
        "\n",
        "from sklearn.linear_model import LogisticRegression\n",
        "from sklearn import metrics\n",
        "\n",
        "lr = LogisticRegression(C=100.0, random_state=1, solver='lbfgs', multi_class='ovr', max_iter=50000)\n",
        "\n",
        "lr.fit(Train_X_Tfidf, y_train)\n",
        "\n",
        "prediction_train = lr.predict(Train_X_Tfidf)\n",
        "prediction_test = lr.predict(Test_X_Tfidf)\n",
        "\n",
        "print(\"LogisticRegression with tf-idf Accuracy %.3f for Training Data \" %metrics.accuracy_score(prediction_train, y_train))\n",
        "print(\"LogisticRegression with tf-idf Accuracy %.3f for Test Data \" %metrics.accuracy_score(prediction_test, y_test))\n",
        "print(\"LogisticRegression with tf-idf f1 score %.3f for Test Data \" %metrics.f1_score(prediction_test, y_test, average='macro'))"
      ]
    },
    {
      "cell_type": "code",
      "execution_count": null,
      "metadata": {
        "colab": {
          "base_uri": "https://localhost:8080/"
        },
        "id": "pG-MQMExsIXH",
        "outputId": "d364dae3-cfe5-43fb-f3da-28da620b00dd"
      },
      "outputs": [
        {
          "name": "stdout",
          "output_type": "stream",
          "text": [
            "Naive Bayes with tf-idf Accuracy 0.878 for Training Data \n",
            "Naive Bayes with tf-idf Accuracy 0.855 for Test Data \n"
          ]
        }
      ],
      "source": [
        "# Naive bayes with tf-idf\n",
        "\n",
        "from sklearn.naive_bayes import MultinomialNB\n",
        "from sklearn import metrics\n",
        "\n",
        "nb = MultinomialNB(force_alpha=True)\n",
        "\n",
        "nb.fit(Train_X_Tfidf, y_train)\n",
        "\n",
        "prediction_train = nb.predict(Train_X_Tfidf)\n",
        "prediction_test = nb.predict(Test_X_Tfidf)\n",
        "\n",
        "print(\"Naive Bayes with tf-idf Accuracy %.3f for Training Data \" %metrics.accuracy_score(prediction_train, y_train))\n",
        "print(\"Naive Bayes with tf-idf Accuracy %.3f for Test Data \" %metrics.accuracy_score(prediction_test, y_test))"
      ]
    },
    {
      "cell_type": "code",
      "execution_count": null,
      "metadata": {
        "colab": {
          "base_uri": "https://localhost:8080/"
        },
        "id": "Ai_FUzaX31gz",
        "outputId": "bc1f6d4a-e35e-4a81-e128-d3ce9ec42293"
      },
      "outputs": [
        {
          "name": "stdout",
          "output_type": "stream",
          "text": [
            "Naive Bayes with tf-idf Accuracy 0.878 for Training Data \n",
            "Naive Bayes with tf-idf Accuracy 0.854 for Test Data \n",
            "Naive Bayes with tf-idf Accuracy 0.839 for Test Data \n"
          ]
        }
      ],
      "source": [
        "# Naive bayes with tf-idf\n",
        "\n",
        "from sklearn.naive_bayes import MultinomialNB\n",
        "from sklearn import metrics\n",
        "\n",
        "nb = MultinomialNB(force_alpha=True)\n",
        "\n",
        "nb.fit(Train_X_Tfidf, y_train)\n",
        "\n",
        "prediction_train = nb.predict(Train_X_Tfidf)\n",
        "prediction_test = nb.predict(Test_X_Tfidf)\n",
        "\n",
        "print(\"Naive Bayes with tf-idf Accuracy %.3f for Training Data \" %metrics.accuracy_score(prediction_train, y_train))\n",
        "print(\"Naive Bayes with tf-idf Accuracy %.3f for Test Data \" %metrics.accuracy_score(prediction_test, y_test))\n",
        "print(\"Naive Bayes with tf-idf f1 score %.3f for Test Data \" %metrics.f1_score(prediction_test, y_test, average='macro'))"
      ]
    }
  ],
  "metadata": {
    "colab": {
      "provenance": []
    },
    "kernelspec": {
      "display_name": "Python 3",
      "name": "python3"
    },
    "language_info": {
      "name": "python"
    }
  },
  "nbformat": 4,
  "nbformat_minor": 0
}
